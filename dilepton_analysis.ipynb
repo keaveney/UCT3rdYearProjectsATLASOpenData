{
 "cells": [
  {
   "cell_type": "code",
   "execution_count": 4,
   "metadata": {},
   "outputs": [],
   "source": [
    "import uproot\n",
    "import uproot_methods.classes.TLorentzVector as LVepm\n",
    "import matplotlib.pyplot as plt\n",
    "from matplotlib import gridspec\n",
    "import infofile\n",
    "import numpy as np\n",
    "import mplhep as hep"
   ]
  },
  {
   "cell_type": "code",
   "execution_count": 5,
   "metadata": {},
   "outputs": [],
   "source": [
    "lumi = 10#fb^-1\n",
    "def get_xsec_weight(sample):\n",
    "    info = infofile.infos[sample] # open infofile\n",
    "    xsec_weight = (lumi*1000*info[\"xsec\"])/(info[\"sumw\"]*info[\"red_eff\"]) #*1000 to go from fb-1 to pb-1\n",
    "    return xsec_weight # return cross-section weight"
   ]
  },
  {
   "cell_type": "code",
   "execution_count": 6,
   "metadata": {},
   "outputs": [],
   "source": [
    "# Files can be downloaded from this webpage and should be placed in the same directory as the webpage\n",
    "#https://atlas-opendata.web.cern.ch/atlas-opendata/samples/2020/2lep/MC/\n",
    "\n",
    "\n",
    "# we start with two files: top quark pair simulation, and real data, others can be added later\n",
    "files = [#\"mc_361108.Ztautau.2lep.root\",\n",
    "#          \"mc_410011.single_top_tchan.2lep.root\",\n",
    "#          \"mc_410012.single_antitop_tchan.2lep.root\",\n",
    "#          \"mc_410013.single_top_wtchan.2lep.root\",\n",
    "#          \"mc_410014.single_antitop_wtchan.2lep.root\",\n",
    "#          \"mc_410155.ttW.2lep.root\",\n",
    "          \"mc_410000.ttbar_lep.2lep.root\",\n",
    "          \"data.2lep.root\"\n",
    "          ]\n",
    "\n",
    "samples = [\"tt\"]\n",
    "#samples = [\"Z tau tau\", \"t\", \"tbar\", \"tW\", \"tbarW\", \"ttW\", \"tt\"]"
   ]
  },
  {
   "cell_type": "code",
   "execution_count": 7,
   "metadata": {},
   "outputs": [
    {
     "name": "stdout",
     "output_type": "stream",
     "text": [
      "File has been successfully opened!\n",
      "File has been successfully opened!\n"
     ]
    }
   ],
   "source": [
    "plot_mll = []\n",
    "bins_mll = np.linspace(0, 400, num=46)\n",
    "\n",
    "sample_names = []\n",
    "\n",
    "btagWP77 = 0.6459\n",
    "\n",
    "for file in files:\n",
    "    sample_name = file.split(\".\")[1] \n",
    "    sample_names.append(sample_name)\n",
    "    tree = uproot.open(file)[\"mini\"]\n",
    "\n",
    "    mcWeight, SumWeights, XSection, trigM, trigE, scaleFactor_PILEUP, scaleFactor_ELE, scaleFactor_MUON, scaleFactor_LepTRIGGER, scaleFactor_BTAG, lep_type, lep_pt, lep_eta, lep_phi, lep_E, lep_charge, lep_etcone20, lep_ptcone30, jet_n, jet_pt, jet_eta, jet_phi, jet_E, jet_MV2c10 = tree.arrays([\"mcWeight\", \"SumWeights\", \"XSection\",\"trigM\", \"trigE\",\"scaleFactor_PILEUP\", \"scaleFactor_ELE\", \"scaleFactor_MUON\",\"scaleFactor_LepTRIGGER\",\"scaleFactor_BTAG\", \"lep_type\",\"lep_pt\", \"lep_eta\",\"lep_phi\", \"lep_E\", \"lep_charge\", \"lep_etcone20\", \"lep_ptcone30\", \"jet_n\", \"jet_pt\", \"jet_eta\", \"jet_phi\",\"jet_E\", \"jet_MV2c10\"], outputtype=tuple)\n",
    "    print(\"File has been successfully opened!\")\n",
    "    \n",
    "    leplv = LVepm.TLorentzVectorArray.from_ptetaphi(lep_pt, lep_eta, lep_phi, lep_E)\n",
    "\n",
    "    lep_reliso_pt = (lep_ptcone30 / lep_pt)\n",
    "    lep_reliso_et = (lep_etcone20 / lep_pt)\n",
    "    sum_lep_type = lep_type.sum()\n",
    "    \n",
    "    jetlv = LVepm.TLorentzVectorArray.from_ptetaphi(jet_pt, jet_eta, jet_phi, jet_E)\n",
    "    jetlv = jetlv[jet_MV2c10.argsort()]    \n",
    "    tags = jet_pt[jet_MV2c10 > btagWP77]\n",
    "\n",
    "    #defining criteria around the singature of top quark pairp prouction with dileptonic decays: two isolated leptons and two b-jets\n",
    "    trig_cut = ( (trigM==1) | (trigE==1))\n",
    "    lep_kinematics_cut  = ( (lep_pt.max() > 25000) & (lep_pt.min() > 25000) & (lep_eta.min() >-2.1) & (lep_eta.max() < 2.1))\n",
    "    lep_type_cut  = (sum_lep_type == 24)\n",
    "    lep_iso_cut =  ((lep_reliso_pt.max() < 0.1) & (lep_reliso_et.max() < 0.1))\n",
    "    lept_count_cut = (leplv.counts ==2)\n",
    "    lept_charge_cut = (lep_charge.sum()==0)\n",
    "    ntag_cut = (tags.counts>1)\n",
    "    \n",
    "    #combining the criteria into a single boolean for each event\n",
    "    event_cut = ( lep_kinematics_cut  & lep_iso_cut  & lept_count_cut & lept_charge_cut & lep_type_cut & ntag_cut)\n",
    "\n",
    "    first_lep_p4 =  leplv[event_cut,0]\n",
    "    second_lep_p4 = leplv[event_cut,1]\n",
    "    ll_p4 = first_lep_p4 + second_lep_p4 \n",
    "\n",
    "    #making an array of event weights so the histograms will be normalised properly \n",
    "    mcWeight = mcWeight[event_cut] \n",
    "        \n",
    "    if(file.split(\"_\")[0] == \"mc\"):\n",
    "        finalWeight = get_xsec_weight(sample_name)*(mcWeight)\n",
    "    else:\n",
    "        finalWeight = np.ones(len(mcWeight)) \n",
    "    \n",
    "    H_mll, b = np.histogram(ll_p4.mass/1000.0, weights=np.full(len(ll_p4.mass),finalWeight), bins=bins_mll) # /1000.0 to change units to GeV\n",
    "    plot_mll.append(H_mll)    "
   ]
  },
  {
   "cell_type": "code",
   "execution_count": 8,
   "metadata": {},
   "outputs": [
    {
     "data": {
      "text/plain": [
       "Text(1, 0, 'm$_{ll}$ [GeV]')"
      ]
     },
     "execution_count": 8,
     "metadata": {},
     "output_type": "execute_result"
    },
    {
     "data": {
      "image/png": "[encoded data removed]",
      "text/plain": [
       "<Figure size 432x576 with 2 Axes>"
      ]
     },
     "metadata": {
      "needs_background": "light"
     },
     "output_type": "display_data"
    }
   ],
   "source": [
    "# Make the plot to compare histograms of data with the expectation from simulation\n",
    "\n",
    "fig = plt.figure(figsize=(6, 8))\n",
    "fig.tight_layout()\n",
    "\n",
    "spec = gridspec.GridSpec(ncols=1, nrows=2, height_ratios=[2, 1], hspace=0.0)\n",
    "ax0 = fig.add_subplot(spec[0])\n",
    "\n",
    "total_mc = hep.histplot(plot_mll[:-1], bins=bins_mll, stack=True, label=samples, histtype='fill')\n",
    "data = hep.histplot(plot_mll[len(plot_mll)-1], bins=bins_mll, stack=False, yerr=True, histtype=\"errorbar\", color=\"black\",label=\"Data\")\n",
    "\n",
    "hep.cms.lumitext(text=r'ATLAS OpenData $\\sqrt{s}=$13 TeV  L=10 fb$^{-1}$', ax=None, fontname=None, fontsize=18)\n",
    "plt.legend(loc=1, ncol=2, fontsize=12)\n",
    "plt.xticks(fontsize=16)\n",
    "plt.yticks(fontsize=16)\n",
    "plt.xlabel(\"m$_{ll}$ [GeV]\", loc=\"right\", fontsize=18)\n",
    "plt.ylabel(\"Number of events\", loc=\"top\", fontsize=18)\n",
    "plt.ylim([0.1,80000])\n",
    "plt.yscale(\"log\")\n",
    "\n",
    "ax1 = fig.add_subplot(spec[1])\n",
    "ratio = (plot_mll[len(plot_mll)-1])/np.sum(plot_mll[:-1],0)\n",
    "unc =  (np.sqrt( np.sum(plot_mll[:-1],0) ))/np.sum(plot_mll[:-1],0)\n",
    "ratio_plot = hep.histplot(ratio, bins=bins_mll, stack=False, yerr=False, histtype=\"errorbar\", color=\"black\",label=\"Data/MC\")\n",
    "plt.ylim([0.6,1.4])\n",
    "plt.xlabel(\"m$_{ll}$ [GeV]\", loc=\"right\", fontsize=18)"
   ]
  }
 ],
 "metadata": {
  "kernelspec": {
   "display_name": "Python 3 (ipykernel)",
   "language": "python",
   "name": "python3"
  },
  "language_info": {
   "codemirror_mode": {
    "name": "ipython",
    "version": 3
   },
   "file_extension": ".py",
   "mimetype": "text/x-python",
   "name": "python",
   "nbconvert_exporter": "python",
   "pygments_lexer": "ipython3",
   "version": "3.8.5"
  }
 },
 "nbformat": 4,
 "nbformat_minor": 4
}
